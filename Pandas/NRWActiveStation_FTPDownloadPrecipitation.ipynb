{
 "cells": [
  {
   "cell_type": "code",
   "execution_count": 1,
   "metadata": {},
   "outputs": [],
   "source": [
    "#FTP connection parameters\n",
    "server = \"opendata.dwd.de\"\n",
    "user   = \"anonymous\"\n",
    "passwd = \"\" "
   ]
  },
  {
   "cell_type": "code",
   "execution_count": 2,
   "metadata": {},
   "outputs": [
    {
     "name": "stdout",
     "output_type": "stream",
     "text": [
      "/climate_environment/CDC/observations_germany/climate//hourly/precipitation/recent/\n"
     ]
    }
   ],
   "source": [
    "#FTP Directory Definition and Station Description Filename Pattern\n",
    "topic_dir = \"/hourly/precipitation/recent/\"\n",
    "climate_data_dir = \"/climate_environment/CDC/observations_germany/climate/\"\n",
    "ftp_dir =  climate_data_dir + topic_dir\n",
    "print(ftp_dir)"
   ]
  },
  {
   "cell_type": "code",
   "execution_count": 3,
   "metadata": {},
   "outputs": [
    {
     "name": "stdout",
     "output_type": "stream",
     "text": [
      "data/DWD//hourly/precipitation/recent/\n"
     ]
    }
   ],
   "source": [
    "#Local Directories\n",
    "local_ts_dir = \"data/DWD/\" + topic_dir\n",
    "local_station_dir = local_ts_dir\n",
    "print(local_station_dir)"
   ]
  },
  {
   "cell_type": "code",
   "execution_count": 4,
   "metadata": {},
   "outputs": [],
   "source": [
    "import os\n",
    "os.makedirs(local_ts_dir,exist_ok = True)\n",
    "os.makedirs(local_station_dir,exist_ok = True)"
   ]
  },
  {
   "cell_type": "code",
   "execution_count": 5,
   "metadata": {},
   "outputs": [
    {
     "name": "stdout",
     "output_type": "stream",
     "text": [
      "230 Login successful.\n"
     ]
    }
   ],
   "source": [
    "#FTP Connect\n",
    "import ftplib\n",
    "ftp = ftplib.FTP(server)\n",
    "res = ftp.login(user=user, passwd = passwd)\n",
    "print(res)"
   ]
  },
  {
   "cell_type": "code",
   "execution_count": 6,
   "metadata": {},
   "outputs": [
    {
     "name": "stdout",
     "output_type": "stream",
     "text": [
      "250 Directory successfully changed.\n"
     ]
    }
   ],
   "source": [
    "ret = ftp.cwd(\".\")\n",
    "print(ret)"
   ]
  },
  {
   "cell_type": "code",
   "execution_count": 7,
   "metadata": {},
   "outputs": [],
   "source": [
    "#FTP download file function\n",
    "def grabFile(ftpfullname,localfullname):\n",
    "    try:\n",
    "        ret = ftp.cwd(\".\") # A dummy action to chack the connection and to provoke an exception if necessary.\n",
    "        localfile = open(localfullname, 'wb')\n",
    "        ftp.retrbinary('RETR ' + ftpfullname, localfile.write, 1024)\n",
    "        localfile.close()\n",
    "    \n",
    "    except ftplib.error_perm:\n",
    "        print(\"FTP ERROR. Operation not permitted. File not found?\")\n",
    "\n",
    "    except ftplib.error_temp:\n",
    "        print(\"FTP ERROR. Timeout.\")\n",
    "\n",
    "    except ConnectionAbortedError:\n",
    "        print(\"FTP ERROR. Connection aborted.\")"
   ]
  },
  {
   "cell_type": "code",
   "execution_count": 8,
   "metadata": {},
   "outputs": [],
   "source": [
    "#Generate Pandas Dataframe from FTP Directory Listing\n",
    "import pandas as pd\n",
    "import os\n",
    "\n",
    "def gen_df_from_ftp_dir_listing(ftp, ftpdir):\n",
    "    lines = []\n",
    "    flist = []\n",
    "    try:    \n",
    "        res = ftp.retrlines(\"LIST \"+ftpdir, lines.append)\n",
    "    except:\n",
    "        print(\"Error: ftp.retrlines() failed. ftp timeout? Reconnect!\")\n",
    "        return\n",
    "        \n",
    "    if len(lines) == 0:\n",
    "        print(\"Error: ftp dir is empty\")\n",
    "        return\n",
    "    \n",
    "    for line in lines:\n",
    "#        print(line)\n",
    "        [ftype, fsize, fname] = [line[0:1], int(line[31:42]), line[56:]]\n",
    "#        itemlist = [line[0:1], int(line[31:42]), line[56:]]\n",
    "#        flist.append(itemlist)\n",
    "        \n",
    "        fext = os.path.splitext(fname)[-1]\n",
    "        \n",
    "        if fext == \".zip\":\n",
    "            station_id = int(fname.split(\"_\")[2])\n",
    "        else:\n",
    "            station_id = -1 \n",
    "        \n",
    "        flist.append([station_id, fname, fext, fsize, ftype])\n",
    "        \n",
    "        \n",
    "\n",
    "    df_ftpdir = pd.DataFrame(flist,columns=[\"station_id\", \"name\", \"ext\", \"size\", \"type\"])\n",
    "    return(df_ftpdir)"
   ]
  },
  {
   "cell_type": "code",
   "execution_count": 9,
   "metadata": {},
   "outputs": [
    {
     "data": {
      "text/html": [
       "<div>\n",
       "<style scoped>\n",
       "    .dataframe tbody tr th:only-of-type {\n",
       "        vertical-align: middle;\n",
       "    }\n",
       "\n",
       "    .dataframe tbody tr th {\n",
       "        vertical-align: top;\n",
       "    }\n",
       "\n",
       "    .dataframe thead th {\n",
       "        text-align: right;\n",
       "    }\n",
       "</style>\n",
       "<table border=\"1\" class=\"dataframe\">\n",
       "  <thead>\n",
       "    <tr style=\"text-align: right;\">\n",
       "      <th></th>\n",
       "      <th>station_id</th>\n",
       "      <th>name</th>\n",
       "      <th>ext</th>\n",
       "      <th>size</th>\n",
       "      <th>type</th>\n",
       "    </tr>\n",
       "  </thead>\n",
       "  <tbody>\n",
       "    <tr>\n",
       "      <th>0</th>\n",
       "      <td>-1</td>\n",
       "      <td>BESCHREIBUNG_obsgermany_climate_hourly_precipi...</td>\n",
       "      <td>.pdf</td>\n",
       "      <td>68888</td>\n",
       "      <td>-</td>\n",
       "    </tr>\n",
       "    <tr>\n",
       "      <th>1</th>\n",
       "      <td>-1</td>\n",
       "      <td>DESCRIPTION_obsgermany_climate_hourly_precipit...</td>\n",
       "      <td>.pdf</td>\n",
       "      <td>68313</td>\n",
       "      <td>-</td>\n",
       "    </tr>\n",
       "    <tr>\n",
       "      <th>2</th>\n",
       "      <td>-1</td>\n",
       "      <td>RR_Stundenwerte_Beschreibung_Stationen.txt</td>\n",
       "      <td>.txt</td>\n",
       "      <td>209079</td>\n",
       "      <td>-</td>\n",
       "    </tr>\n",
       "    <tr>\n",
       "      <th>3</th>\n",
       "      <td>20</td>\n",
       "      <td>stundenwerte_RR_00020_akt.zip</td>\n",
       "      <td>.zip</td>\n",
       "      <td>43624</td>\n",
       "      <td>-</td>\n",
       "    </tr>\n",
       "    <tr>\n",
       "      <th>4</th>\n",
       "      <td>44</td>\n",
       "      <td>stundenwerte_RR_00044_akt.zip</td>\n",
       "      <td>.zip</td>\n",
       "      <td>43874</td>\n",
       "      <td>-</td>\n",
       "    </tr>\n",
       "    <tr>\n",
       "      <th>...</th>\n",
       "      <td>...</td>\n",
       "      <td>...</td>\n",
       "      <td>...</td>\n",
       "      <td>...</td>\n",
       "      <td>...</td>\n",
       "    </tr>\n",
       "    <tr>\n",
       "      <th>970</th>\n",
       "      <td>15478</td>\n",
       "      <td>stundenwerte_RR_15478_akt.zip</td>\n",
       "      <td>.zip</td>\n",
       "      <td>41253</td>\n",
       "      <td>-</td>\n",
       "    </tr>\n",
       "    <tr>\n",
       "      <th>971</th>\n",
       "      <td>15490</td>\n",
       "      <td>stundenwerte_RR_15490_akt.zip</td>\n",
       "      <td>.zip</td>\n",
       "      <td>42086</td>\n",
       "      <td>-</td>\n",
       "    </tr>\n",
       "    <tr>\n",
       "      <th>972</th>\n",
       "      <td>15512</td>\n",
       "      <td>stundenwerte_RR_15512_akt.zip</td>\n",
       "      <td>.zip</td>\n",
       "      <td>41319</td>\n",
       "      <td>-</td>\n",
       "    </tr>\n",
       "    <tr>\n",
       "      <th>973</th>\n",
       "      <td>15514</td>\n",
       "      <td>stundenwerte_RR_15514_akt.zip</td>\n",
       "      <td>.zip</td>\n",
       "      <td>42695</td>\n",
       "      <td>-</td>\n",
       "    </tr>\n",
       "    <tr>\n",
       "      <th>974</th>\n",
       "      <td>15555</td>\n",
       "      <td>stundenwerte_RR_15555_akt.zip</td>\n",
       "      <td>.zip</td>\n",
       "      <td>41677</td>\n",
       "      <td>-</td>\n",
       "    </tr>\n",
       "  </tbody>\n",
       "</table>\n",
       "<p>975 rows × 5 columns</p>\n",
       "</div>"
      ],
      "text/plain": [
       "     station_id                                               name   ext  \\\n",
       "0            -1  BESCHREIBUNG_obsgermany_climate_hourly_precipi...  .pdf   \n",
       "1            -1  DESCRIPTION_obsgermany_climate_hourly_precipit...  .pdf   \n",
       "2            -1         RR_Stundenwerte_Beschreibung_Stationen.txt  .txt   \n",
       "3            20                      stundenwerte_RR_00020_akt.zip  .zip   \n",
       "4            44                      stundenwerte_RR_00044_akt.zip  .zip   \n",
       "..          ...                                                ...   ...   \n",
       "970       15478                      stundenwerte_RR_15478_akt.zip  .zip   \n",
       "971       15490                      stundenwerte_RR_15490_akt.zip  .zip   \n",
       "972       15512                      stundenwerte_RR_15512_akt.zip  .zip   \n",
       "973       15514                      stundenwerte_RR_15514_akt.zip  .zip   \n",
       "974       15555                      stundenwerte_RR_15555_akt.zip  .zip   \n",
       "\n",
       "       size type  \n",
       "0     68888    -  \n",
       "1     68313    -  \n",
       "2    209079    -  \n",
       "3     43624    -  \n",
       "4     43874    -  \n",
       "..      ...  ...  \n",
       "970   41253    -  \n",
       "971   42086    -  \n",
       "972   41319    -  \n",
       "973   42695    -  \n",
       "974   41677    -  \n",
       "\n",
       "[975 rows x 5 columns]"
      ]
     },
     "execution_count": 9,
     "metadata": {},
     "output_type": "execute_result"
    }
   ],
   "source": [
    "df_ftpdir = gen_df_from_ftp_dir_listing(ftp, ftp_dir)\n",
    "df_ftpdir"
   ]
  },
  {
   "cell_type": "code",
   "execution_count": 10,
   "metadata": {},
   "outputs": [
    {
     "data": {
      "text/html": [
       "<div>\n",
       "<style scoped>\n",
       "    .dataframe tbody tr th:only-of-type {\n",
       "        vertical-align: middle;\n",
       "    }\n",
       "\n",
       "    .dataframe tbody tr th {\n",
       "        vertical-align: top;\n",
       "    }\n",
       "\n",
       "    .dataframe thead th {\n",
       "        text-align: right;\n",
       "    }\n",
       "</style>\n",
       "<table border=\"1\" class=\"dataframe\">\n",
       "  <thead>\n",
       "    <tr style=\"text-align: right;\">\n",
       "      <th></th>\n",
       "      <th>station_id</th>\n",
       "      <th>name</th>\n",
       "      <th>ext</th>\n",
       "      <th>size</th>\n",
       "      <th>type</th>\n",
       "    </tr>\n",
       "  </thead>\n",
       "  <tbody>\n",
       "    <tr>\n",
       "      <th>3</th>\n",
       "      <td>20</td>\n",
       "      <td>stundenwerte_RR_00020_akt.zip</td>\n",
       "      <td>.zip</td>\n",
       "      <td>43624</td>\n",
       "      <td>-</td>\n",
       "    </tr>\n",
       "    <tr>\n",
       "      <th>4</th>\n",
       "      <td>44</td>\n",
       "      <td>stundenwerte_RR_00044_akt.zip</td>\n",
       "      <td>.zip</td>\n",
       "      <td>43874</td>\n",
       "      <td>-</td>\n",
       "    </tr>\n",
       "    <tr>\n",
       "      <th>5</th>\n",
       "      <td>53</td>\n",
       "      <td>stundenwerte_RR_00053_akt.zip</td>\n",
       "      <td>.zip</td>\n",
       "      <td>42246</td>\n",
       "      <td>-</td>\n",
       "    </tr>\n",
       "    <tr>\n",
       "      <th>6</th>\n",
       "      <td>71</td>\n",
       "      <td>stundenwerte_RR_00071_akt.zip</td>\n",
       "      <td>.zip</td>\n",
       "      <td>21157</td>\n",
       "      <td>-</td>\n",
       "    </tr>\n",
       "    <tr>\n",
       "      <th>7</th>\n",
       "      <td>73</td>\n",
       "      <td>stundenwerte_RR_00073_akt.zip</td>\n",
       "      <td>.zip</td>\n",
       "      <td>43267</td>\n",
       "      <td>-</td>\n",
       "    </tr>\n",
       "    <tr>\n",
       "      <th>...</th>\n",
       "      <td>...</td>\n",
       "      <td>...</td>\n",
       "      <td>...</td>\n",
       "      <td>...</td>\n",
       "      <td>...</td>\n",
       "    </tr>\n",
       "    <tr>\n",
       "      <th>970</th>\n",
       "      <td>15478</td>\n",
       "      <td>stundenwerte_RR_15478_akt.zip</td>\n",
       "      <td>.zip</td>\n",
       "      <td>41253</td>\n",
       "      <td>-</td>\n",
       "    </tr>\n",
       "    <tr>\n",
       "      <th>971</th>\n",
       "      <td>15490</td>\n",
       "      <td>stundenwerte_RR_15490_akt.zip</td>\n",
       "      <td>.zip</td>\n",
       "      <td>42086</td>\n",
       "      <td>-</td>\n",
       "    </tr>\n",
       "    <tr>\n",
       "      <th>972</th>\n",
       "      <td>15512</td>\n",
       "      <td>stundenwerte_RR_15512_akt.zip</td>\n",
       "      <td>.zip</td>\n",
       "      <td>41319</td>\n",
       "      <td>-</td>\n",
       "    </tr>\n",
       "    <tr>\n",
       "      <th>973</th>\n",
       "      <td>15514</td>\n",
       "      <td>stundenwerte_RR_15514_akt.zip</td>\n",
       "      <td>.zip</td>\n",
       "      <td>42695</td>\n",
       "      <td>-</td>\n",
       "    </tr>\n",
       "    <tr>\n",
       "      <th>974</th>\n",
       "      <td>15555</td>\n",
       "      <td>stundenwerte_RR_15555_akt.zip</td>\n",
       "      <td>.zip</td>\n",
       "      <td>41677</td>\n",
       "      <td>-</td>\n",
       "    </tr>\n",
       "  </tbody>\n",
       "</table>\n",
       "<p>972 rows × 5 columns</p>\n",
       "</div>"
      ],
      "text/plain": [
       "     station_id                           name   ext   size type\n",
       "3            20  stundenwerte_RR_00020_akt.zip  .zip  43624    -\n",
       "4            44  stundenwerte_RR_00044_akt.zip  .zip  43874    -\n",
       "5            53  stundenwerte_RR_00053_akt.zip  .zip  42246    -\n",
       "6            71  stundenwerte_RR_00071_akt.zip  .zip  21157    -\n",
       "7            73  stundenwerte_RR_00073_akt.zip  .zip  43267    -\n",
       "..          ...                            ...   ...    ...  ...\n",
       "970       15478  stundenwerte_RR_15478_akt.zip  .zip  41253    -\n",
       "971       15490  stundenwerte_RR_15490_akt.zip  .zip  42086    -\n",
       "972       15512  stundenwerte_RR_15512_akt.zip  .zip  41319    -\n",
       "973       15514  stundenwerte_RR_15514_akt.zip  .zip  42695    -\n",
       "974       15555  stundenwerte_RR_15555_akt.zip  .zip  41677    -\n",
       "\n",
       "[972 rows x 5 columns]"
      ]
     },
     "execution_count": 10,
     "metadata": {},
     "output_type": "execute_result"
    }
   ],
   "source": [
    "#Dataframes with .zip extension\n",
    "df_zips = df_ftpdir[df_ftpdir[\"ext\"]==\".zip\"]\n",
    "df_zips"
   ]
  },
  {
   "cell_type": "code",
   "execution_count": 11,
   "metadata": {},
   "outputs": [
    {
     "name": "stdout",
     "output_type": "stream",
     "text": [
      "    station_id   date_from     date_to  altitude  latitude  longitude  \\\n",
      "0          216  2004-10-01  2020-11-04       298   51.1143     7.8807   \n",
      "1          389  2009-11-01  2020-11-04       436   51.0148     8.4318   \n",
      "2          390  2004-07-01  2020-11-04       610   50.9837     8.3683   \n",
      "3          554  1995-09-01  2020-11-04        23   51.8293     6.5365   \n",
      "4          603  1999-03-03  2020-11-04       147   50.7293     7.2040   \n",
      "..         ...         ...         ...       ...       ...        ...   \n",
      "78       13671  2007-12-01  2020-11-04       221   50.9655     7.2753   \n",
      "79       13696  2007-12-01  2020-11-04        60   51.5966     7.4048   \n",
      "80       13700  2008-05-01  2020-11-04       205   51.3329     7.3411   \n",
      "81       13713  2007-11-01  2020-11-04       386   51.0899     7.6289   \n",
      "82       15000  2011-04-01  2020-11-04       231   50.7983     6.0244   \n",
      "\n",
      "                            name                state  \n",
      "0        Attendorn-Neulisternohl  Nordrhein-Westfalen  \n",
      "1          Berleburg, Bad-Arfeld  Nordrhein-Westfalen  \n",
      "2         Berleburg, Bad-Stünzel  Nordrhein-Westfalen  \n",
      "3   Bocholt-Liedern (Wasserwerk)  Nordrhein-Westfalen  \n",
      "4         Königswinter-Heiderhof  Nordrhein-Westfalen  \n",
      "..                           ...                  ...  \n",
      "78                  Overath-Böke  Nordrhein-Westfalen  \n",
      "79             Waltrop-Abdinghof  Nordrhein-Westfalen  \n",
      "80        Gevelsberg-Oberbröking  Nordrhein-Westfalen  \n",
      "81       Meinerzhagen-Redlendorf  Nordrhein-Westfalen  \n",
      "82                Aachen-Orsbach  Nordrhein-Westfalen  \n",
      "\n",
      "[83 rows x 8 columns]\n"
     ]
    }
   ],
   "source": [
    "#fileName = '/Data/Extracted/NRW_Station_Active_data.csv'\n",
    "#Need to traverse back to the top level folder if the file is not in the same location as .py file\n",
    "#Read .csv file extracted from QGIS which contains active stations in NRW\n",
    "df_active = pd.read_csv('../../../Data/Extracted/NRW_Station_Active_data.csv')\n",
    "print(df_active)"
   ]
  },
  {
   "cell_type": "code",
   "execution_count": 12,
   "metadata": {},
   "outputs": [
    {
     "name": "stdout",
     "output_type": "stream",
     "text": [
      "0       216\n",
      "1       389\n",
      "2       390\n",
      "3       554\n",
      "4       603\n",
      "      ...  \n",
      "78    13671\n",
      "79    13696\n",
      "80    13700\n",
      "81    13713\n",
      "82    15000\n",
      "Name: station_id, Length: 83, dtype: int64\n"
     ]
    }
   ],
   "source": [
    "#extract only active station id from the df\n",
    "sid = df_active['station_id']\n",
    "type(sid)\n",
    "print(sid)"
   ]
  },
  {
   "cell_type": "code",
   "execution_count": 13,
   "metadata": {},
   "outputs": [
    {
     "name": "stdout",
     "output_type": "stream",
     "text": [
      "3      stundenwerte_RR_00020_akt.zip\n",
      "4      stundenwerte_RR_00044_akt.zip\n",
      "5      stundenwerte_RR_00053_akt.zip\n",
      "6      stundenwerte_RR_00071_akt.zip\n",
      "7      stundenwerte_RR_00073_akt.zip\n",
      "                   ...              \n",
      "970    stundenwerte_RR_15478_akt.zip\n",
      "971    stundenwerte_RR_15490_akt.zip\n",
      "972    stundenwerte_RR_15512_akt.zip\n",
      "973    stundenwerte_RR_15514_akt.zip\n",
      "974    stundenwerte_RR_15555_akt.zip\n",
      "Name: name, Length: 972, dtype: object\n"
     ]
    }
   ],
   "source": [
    "#local variable to create a filename structure\n",
    "fileNameTemp1 = \"stundenwerte_RR_\"\n",
    "fileNameTemp2 = \"_akt.zip\"\n",
    "\n",
    "type(df_zips['name'])\n",
    "print(df_zips['name'])"
   ]
  },
  {
   "cell_type": "code",
   "execution_count": 44,
   "metadata": {},
   "outputs": [
    {
     "name": "stdout",
     "output_type": "stream",
     "text": [
      "FTP ERROR. Timeout.\n"
     ]
    },
    {
     "ename": "EOFError",
     "evalue": "",
     "output_type": "error",
     "traceback": [
      "\u001b[1;31m---------------------------------------------------------------------------\u001b[0m",
      "\u001b[1;31mEOFError\u001b[0m                                  Traceback (most recent call last)",
      "\u001b[1;32m<ipython-input-44-1a4db175d52a>\u001b[0m in \u001b[0;36m<module>\u001b[1;34m\u001b[0m\n\u001b[0;32m     16\u001b[0m     \u001b[1;31m#print(type(station_fname))\u001b[0m\u001b[1;33m\u001b[0m\u001b[1;33m\u001b[0m\u001b[1;33m\u001b[0m\u001b[0m\n\u001b[0;32m     17\u001b[0m     \u001b[1;31m#print(\"grab file: \" + station_fname + \"\\nfrom ftp dir: \" + ftp_dir)\u001b[0m\u001b[1;33m\u001b[0m\u001b[1;33m\u001b[0m\u001b[1;33m\u001b[0m\u001b[0m\n\u001b[1;32m---> 18\u001b[1;33m     \u001b[0mgrabFile\u001b[0m\u001b[1;33m(\u001b[0m\u001b[0mftp_dir\u001b[0m \u001b[1;33m+\u001b[0m \u001b[0mstation_fname\u001b[0m\u001b[1;33m,\u001b[0m \u001b[0mlocal_station_dir\u001b[0m \u001b[1;33m+\u001b[0m \u001b[0mstation_fname\u001b[0m\u001b[1;33m)\u001b[0m\u001b[1;33m\u001b[0m\u001b[1;33m\u001b[0m\u001b[0m\n\u001b[0m",
      "\u001b[1;32m<ipython-input-23-1cea5c7c1a2e>\u001b[0m in \u001b[0;36mgrabFile\u001b[1;34m(ftpfullname, localfullname)\u001b[0m\n\u001b[0;32m      2\u001b[0m \u001b[1;32mdef\u001b[0m \u001b[0mgrabFile\u001b[0m\u001b[1;33m(\u001b[0m\u001b[0mftpfullname\u001b[0m\u001b[1;33m,\u001b[0m\u001b[0mlocalfullname\u001b[0m\u001b[1;33m)\u001b[0m\u001b[1;33m:\u001b[0m\u001b[1;33m\u001b[0m\u001b[1;33m\u001b[0m\u001b[0m\n\u001b[0;32m      3\u001b[0m     \u001b[1;32mtry\u001b[0m\u001b[1;33m:\u001b[0m\u001b[1;33m\u001b[0m\u001b[1;33m\u001b[0m\u001b[0m\n\u001b[1;32m----> 4\u001b[1;33m         \u001b[0mret\u001b[0m \u001b[1;33m=\u001b[0m \u001b[0mftp\u001b[0m\u001b[1;33m.\u001b[0m\u001b[0mcwd\u001b[0m\u001b[1;33m(\u001b[0m\u001b[1;34m\".\"\u001b[0m\u001b[1;33m)\u001b[0m \u001b[1;31m# A dummy action to chack the connection and to provoke an exception if necessary.\u001b[0m\u001b[1;33m\u001b[0m\u001b[1;33m\u001b[0m\u001b[0m\n\u001b[0m\u001b[0;32m      5\u001b[0m         \u001b[0mlocalfile\u001b[0m \u001b[1;33m=\u001b[0m \u001b[0mopen\u001b[0m\u001b[1;33m(\u001b[0m\u001b[0mlocalfullname\u001b[0m\u001b[1;33m,\u001b[0m \u001b[1;34m'wb'\u001b[0m\u001b[1;33m)\u001b[0m\u001b[1;33m\u001b[0m\u001b[1;33m\u001b[0m\u001b[0m\n\u001b[0;32m      6\u001b[0m         \u001b[0mftp\u001b[0m\u001b[1;33m.\u001b[0m\u001b[0mretrbinary\u001b[0m\u001b[1;33m(\u001b[0m\u001b[1;34m'RETR '\u001b[0m \u001b[1;33m+\u001b[0m \u001b[0mftpfullname\u001b[0m\u001b[1;33m,\u001b[0m \u001b[0mlocalfile\u001b[0m\u001b[1;33m.\u001b[0m\u001b[0mwrite\u001b[0m\u001b[1;33m,\u001b[0m \u001b[1;36m1024\u001b[0m\u001b[1;33m)\u001b[0m\u001b[1;33m\u001b[0m\u001b[1;33m\u001b[0m\u001b[0m\n",
      "\u001b[1;32mD:\\InstalledSoftwares\\Anaconda3\\lib\\ftplib.py\u001b[0m in \u001b[0;36mcwd\u001b[1;34m(self, dirname)\u001b[0m\n\u001b[0;32m    612\u001b[0m             \u001b[0mdirname\u001b[0m \u001b[1;33m=\u001b[0m \u001b[1;34m'.'\u001b[0m  \u001b[1;31m# does nothing, but could return error\u001b[0m\u001b[1;33m\u001b[0m\u001b[1;33m\u001b[0m\u001b[0m\n\u001b[0;32m    613\u001b[0m         \u001b[0mcmd\u001b[0m \u001b[1;33m=\u001b[0m \u001b[1;34m'CWD '\u001b[0m \u001b[1;33m+\u001b[0m \u001b[0mdirname\u001b[0m\u001b[1;33m\u001b[0m\u001b[1;33m\u001b[0m\u001b[0m\n\u001b[1;32m--> 614\u001b[1;33m         \u001b[1;32mreturn\u001b[0m \u001b[0mself\u001b[0m\u001b[1;33m.\u001b[0m\u001b[0mvoidcmd\u001b[0m\u001b[1;33m(\u001b[0m\u001b[0mcmd\u001b[0m\u001b[1;33m)\u001b[0m\u001b[1;33m\u001b[0m\u001b[1;33m\u001b[0m\u001b[0m\n\u001b[0m\u001b[0;32m    615\u001b[0m \u001b[1;33m\u001b[0m\u001b[0m\n\u001b[0;32m    616\u001b[0m     \u001b[1;32mdef\u001b[0m \u001b[0msize\u001b[0m\u001b[1;33m(\u001b[0m\u001b[0mself\u001b[0m\u001b[1;33m,\u001b[0m \u001b[0mfilename\u001b[0m\u001b[1;33m)\u001b[0m\u001b[1;33m:\u001b[0m\u001b[1;33m\u001b[0m\u001b[1;33m\u001b[0m\u001b[0m\n",
      "\u001b[1;32mD:\\InstalledSoftwares\\Anaconda3\\lib\\ftplib.py\u001b[0m in \u001b[0;36mvoidcmd\u001b[1;34m(self, cmd)\u001b[0m\n\u001b[0;32m    278\u001b[0m         \u001b[1;34m\"\"\"Send a command and expect a response beginning with '2'.\"\"\"\u001b[0m\u001b[1;33m\u001b[0m\u001b[1;33m\u001b[0m\u001b[0m\n\u001b[0;32m    279\u001b[0m         \u001b[0mself\u001b[0m\u001b[1;33m.\u001b[0m\u001b[0mputcmd\u001b[0m\u001b[1;33m(\u001b[0m\u001b[0mcmd\u001b[0m\u001b[1;33m)\u001b[0m\u001b[1;33m\u001b[0m\u001b[1;33m\u001b[0m\u001b[0m\n\u001b[1;32m--> 280\u001b[1;33m         \u001b[1;32mreturn\u001b[0m \u001b[0mself\u001b[0m\u001b[1;33m.\u001b[0m\u001b[0mvoidresp\u001b[0m\u001b[1;33m(\u001b[0m\u001b[1;33m)\u001b[0m\u001b[1;33m\u001b[0m\u001b[1;33m\u001b[0m\u001b[0m\n\u001b[0m\u001b[0;32m    281\u001b[0m \u001b[1;33m\u001b[0m\u001b[0m\n\u001b[0;32m    282\u001b[0m     \u001b[1;32mdef\u001b[0m \u001b[0msendport\u001b[0m\u001b[1;33m(\u001b[0m\u001b[0mself\u001b[0m\u001b[1;33m,\u001b[0m \u001b[0mhost\u001b[0m\u001b[1;33m,\u001b[0m \u001b[0mport\u001b[0m\u001b[1;33m)\u001b[0m\u001b[1;33m:\u001b[0m\u001b[1;33m\u001b[0m\u001b[1;33m\u001b[0m\u001b[0m\n",
      "\u001b[1;32mD:\\InstalledSoftwares\\Anaconda3\\lib\\ftplib.py\u001b[0m in \u001b[0;36mvoidresp\u001b[1;34m(self)\u001b[0m\n\u001b[0;32m    251\u001b[0m     \u001b[1;32mdef\u001b[0m \u001b[0mvoidresp\u001b[0m\u001b[1;33m(\u001b[0m\u001b[0mself\u001b[0m\u001b[1;33m)\u001b[0m\u001b[1;33m:\u001b[0m\u001b[1;33m\u001b[0m\u001b[1;33m\u001b[0m\u001b[0m\n\u001b[0;32m    252\u001b[0m         \u001b[1;34m\"\"\"Expect a response beginning with '2'.\"\"\"\u001b[0m\u001b[1;33m\u001b[0m\u001b[1;33m\u001b[0m\u001b[0m\n\u001b[1;32m--> 253\u001b[1;33m         \u001b[0mresp\u001b[0m \u001b[1;33m=\u001b[0m \u001b[0mself\u001b[0m\u001b[1;33m.\u001b[0m\u001b[0mgetresp\u001b[0m\u001b[1;33m(\u001b[0m\u001b[1;33m)\u001b[0m\u001b[1;33m\u001b[0m\u001b[1;33m\u001b[0m\u001b[0m\n\u001b[0m\u001b[0;32m    254\u001b[0m         \u001b[1;32mif\u001b[0m \u001b[0mresp\u001b[0m\u001b[1;33m[\u001b[0m\u001b[1;33m:\u001b[0m\u001b[1;36m1\u001b[0m\u001b[1;33m]\u001b[0m \u001b[1;33m!=\u001b[0m \u001b[1;34m'2'\u001b[0m\u001b[1;33m:\u001b[0m\u001b[1;33m\u001b[0m\u001b[1;33m\u001b[0m\u001b[0m\n\u001b[0;32m    255\u001b[0m             \u001b[1;32mraise\u001b[0m \u001b[0merror_reply\u001b[0m\u001b[1;33m(\u001b[0m\u001b[0mresp\u001b[0m\u001b[1;33m)\u001b[0m\u001b[1;33m\u001b[0m\u001b[1;33m\u001b[0m\u001b[0m\n",
      "\u001b[1;32mD:\\InstalledSoftwares\\Anaconda3\\lib\\ftplib.py\u001b[0m in \u001b[0;36mgetresp\u001b[1;34m(self)\u001b[0m\n\u001b[0;32m    236\u001b[0m     \u001b[1;31m# Raise various errors if the response indicates an error\u001b[0m\u001b[1;33m\u001b[0m\u001b[1;33m\u001b[0m\u001b[1;33m\u001b[0m\u001b[0m\n\u001b[0;32m    237\u001b[0m     \u001b[1;32mdef\u001b[0m \u001b[0mgetresp\u001b[0m\u001b[1;33m(\u001b[0m\u001b[0mself\u001b[0m\u001b[1;33m)\u001b[0m\u001b[1;33m:\u001b[0m\u001b[1;33m\u001b[0m\u001b[1;33m\u001b[0m\u001b[0m\n\u001b[1;32m--> 238\u001b[1;33m         \u001b[0mresp\u001b[0m \u001b[1;33m=\u001b[0m \u001b[0mself\u001b[0m\u001b[1;33m.\u001b[0m\u001b[0mgetmultiline\u001b[0m\u001b[1;33m(\u001b[0m\u001b[1;33m)\u001b[0m\u001b[1;33m\u001b[0m\u001b[1;33m\u001b[0m\u001b[0m\n\u001b[0m\u001b[0;32m    239\u001b[0m         \u001b[1;32mif\u001b[0m \u001b[0mself\u001b[0m\u001b[1;33m.\u001b[0m\u001b[0mdebugging\u001b[0m\u001b[1;33m:\u001b[0m\u001b[1;33m\u001b[0m\u001b[1;33m\u001b[0m\u001b[0m\n\u001b[0;32m    240\u001b[0m             \u001b[0mprint\u001b[0m\u001b[1;33m(\u001b[0m\u001b[1;34m'*resp*'\u001b[0m\u001b[1;33m,\u001b[0m \u001b[0mself\u001b[0m\u001b[1;33m.\u001b[0m\u001b[0msanitize\u001b[0m\u001b[1;33m(\u001b[0m\u001b[0mresp\u001b[0m\u001b[1;33m)\u001b[0m\u001b[1;33m)\u001b[0m\u001b[1;33m\u001b[0m\u001b[1;33m\u001b[0m\u001b[0m\n",
      "\u001b[1;32mD:\\InstalledSoftwares\\Anaconda3\\lib\\ftplib.py\u001b[0m in \u001b[0;36mgetmultiline\u001b[1;34m(self)\u001b[0m\n\u001b[0;32m    222\u001b[0m     \u001b[1;31m# these are separated by '\\n' characters in the string\u001b[0m\u001b[1;33m\u001b[0m\u001b[1;33m\u001b[0m\u001b[1;33m\u001b[0m\u001b[0m\n\u001b[0;32m    223\u001b[0m     \u001b[1;32mdef\u001b[0m \u001b[0mgetmultiline\u001b[0m\u001b[1;33m(\u001b[0m\u001b[0mself\u001b[0m\u001b[1;33m)\u001b[0m\u001b[1;33m:\u001b[0m\u001b[1;33m\u001b[0m\u001b[1;33m\u001b[0m\u001b[0m\n\u001b[1;32m--> 224\u001b[1;33m         \u001b[0mline\u001b[0m \u001b[1;33m=\u001b[0m \u001b[0mself\u001b[0m\u001b[1;33m.\u001b[0m\u001b[0mgetline\u001b[0m\u001b[1;33m(\u001b[0m\u001b[1;33m)\u001b[0m\u001b[1;33m\u001b[0m\u001b[1;33m\u001b[0m\u001b[0m\n\u001b[0m\u001b[0;32m    225\u001b[0m         \u001b[1;32mif\u001b[0m \u001b[0mline\u001b[0m\u001b[1;33m[\u001b[0m\u001b[1;36m3\u001b[0m\u001b[1;33m:\u001b[0m\u001b[1;36m4\u001b[0m\u001b[1;33m]\u001b[0m \u001b[1;33m==\u001b[0m \u001b[1;34m'-'\u001b[0m\u001b[1;33m:\u001b[0m\u001b[1;33m\u001b[0m\u001b[1;33m\u001b[0m\u001b[0m\n\u001b[0;32m    226\u001b[0m             \u001b[0mcode\u001b[0m \u001b[1;33m=\u001b[0m \u001b[0mline\u001b[0m\u001b[1;33m[\u001b[0m\u001b[1;33m:\u001b[0m\u001b[1;36m3\u001b[0m\u001b[1;33m]\u001b[0m\u001b[1;33m\u001b[0m\u001b[1;33m\u001b[0m\u001b[0m\n",
      "\u001b[1;32mD:\\InstalledSoftwares\\Anaconda3\\lib\\ftplib.py\u001b[0m in \u001b[0;36mgetline\u001b[1;34m(self)\u001b[0m\n\u001b[0;32m    210\u001b[0m             \u001b[0mprint\u001b[0m\u001b[1;33m(\u001b[0m\u001b[1;34m'*get*'\u001b[0m\u001b[1;33m,\u001b[0m \u001b[0mself\u001b[0m\u001b[1;33m.\u001b[0m\u001b[0msanitize\u001b[0m\u001b[1;33m(\u001b[0m\u001b[0mline\u001b[0m\u001b[1;33m)\u001b[0m\u001b[1;33m)\u001b[0m\u001b[1;33m\u001b[0m\u001b[1;33m\u001b[0m\u001b[0m\n\u001b[0;32m    211\u001b[0m         \u001b[1;32mif\u001b[0m \u001b[1;32mnot\u001b[0m \u001b[0mline\u001b[0m\u001b[1;33m:\u001b[0m\u001b[1;33m\u001b[0m\u001b[1;33m\u001b[0m\u001b[0m\n\u001b[1;32m--> 212\u001b[1;33m             \u001b[1;32mraise\u001b[0m \u001b[0mEOFError\u001b[0m\u001b[1;33m\u001b[0m\u001b[1;33m\u001b[0m\u001b[0m\n\u001b[0m\u001b[0;32m    213\u001b[0m         \u001b[1;32mif\u001b[0m \u001b[0mline\u001b[0m\u001b[1;33m[\u001b[0m\u001b[1;33m-\u001b[0m\u001b[1;36m2\u001b[0m\u001b[1;33m:\u001b[0m\u001b[1;33m]\u001b[0m \u001b[1;33m==\u001b[0m \u001b[0mCRLF\u001b[0m\u001b[1;33m:\u001b[0m\u001b[1;33m\u001b[0m\u001b[1;33m\u001b[0m\u001b[0m\n\u001b[0;32m    214\u001b[0m             \u001b[0mline\u001b[0m \u001b[1;33m=\u001b[0m \u001b[0mline\u001b[0m\u001b[1;33m[\u001b[0m\u001b[1;33m:\u001b[0m\u001b[1;33m-\u001b[0m\u001b[1;36m2\u001b[0m\u001b[1;33m]\u001b[0m\u001b[1;33m\u001b[0m\u001b[1;33m\u001b[0m\u001b[0m\n",
      "\u001b[1;31mEOFError\u001b[0m: "
     ]
    }
   ],
   "source": [
    "#Download all the .zip files from FTP server for all the active station id\n",
    "for st_id in sid:\n",
    "    #print(st_id)\n",
    "    if not df_zips['name'].empty:       \n",
    "       #print(len(str(st_id)))\n",
    "       if len(str(st_id)) == 3:\n",
    "            temp_st_id = \"00\"+str(st_id)\n",
    "            #print(temp_st_id)\n",
    "       elif len(str(st_id)) == 4:\n",
    "                temp_st_id = \"0\"+str(st_id)\n",
    "                #print(temp_st_id)\n",
    "       elif len(str(st_id)) == 5:\n",
    "                temp_st_id = str(st_id)\n",
    "    #print(fileNameTemp1+temp_st_id+fileNameTemp2)\n",
    "    station_fname = fileNameTemp1+temp_st_id+fileNameTemp2\n",
    "    #print(type(station_fname))\n",
    "    #print(\"grab file: \" + station_fname + \"\\nfrom ftp dir: \" + ftp_dir)\n",
    "    grabFile(ftp_dir + station_fname, local_station_dir + station_fname)"
   ]
  },
  {
   "cell_type": "code",
   "execution_count": 15,
   "metadata": {},
   "outputs": [],
   "source": [
    "#Iterate through the directory and extract the 'produkt_rr_stunde_*'file from all the .zip file\n",
    "import glob\n",
    "from zipfile import ZipFile\n",
    "# Recursively print\n",
    "for filepath in glob.iglob(r'data/DWD/hourly/precipitation/recent/*.zip', recursive=True):\n",
    "    #print(filepath)\n",
    "    with ZipFile(filepath, 'r') as zipObj:\n",
    "        listOfFileNames = zipObj.namelist()\n",
    "        for fileName in listOfFileNames:\n",
    "            if fileName.startswith('produkt_rr_stunde_'):\n",
    "                zipObj.extract(fileName, 'temp_percipitation')          \n",
    "        "
   ]
  },
  {
   "cell_type": "code",
   "execution_count": 16,
   "metadata": {},
   "outputs": [],
   "source": [
    "os.getcwd()\n",
    "my_dir = \"temp_percipitation/\"\n",
    "os.chdir(my_dir)"
   ]
  },
  {
   "cell_type": "code",
   "execution_count": 17,
   "metadata": {},
   "outputs": [
    {
     "name": "stdout",
     "output_type": "stream",
     "text": [
      "Empty DataFrame\n",
      "Columns: []\n",
      "Index: []\n"
     ]
    }
   ],
   "source": [
    "df = pd.DataFrame({})\n",
    "print(df)"
   ]
  },
  {
   "cell_type": "code",
   "execution_count": 37,
   "metadata": {},
   "outputs": [
    {
     "name": "stdout",
     "output_type": "stream",
     "text": [
      "       216  389  390  554  603  613  617  644  796  871  ...  7344  7374  \\\n",
      "0      0.0  0.0  0.0  0.0  0.8  0.0  0.0  0.0  0.4  0.0  ...   0.0   0.0   \n",
      "1      0.0  0.0  0.0  0.0  1.5  0.0  0.0  0.0  0.0  0.0  ...   0.0   0.0   \n",
      "2      0.0  0.0  0.0  0.0  2.1  0.0  0.0  0.0  0.0  0.0  ...   0.0   0.0   \n",
      "3      0.0  0.0  0.0  0.0  0.6  0.0  0.0  0.0  0.0  0.0  ...   0.0   0.0   \n",
      "4      0.0  0.0  0.0  0.0  0.1  0.0  0.0  0.0  0.0  0.0  ...   0.0   0.0   \n",
      "...    ...  ...  ...  ...  ...  ...  ...  ...  ...  ...  ...   ...   ...   \n",
      "13195  NaN  0.6  NaN  0.0  NaN  NaN  NaN  0.0  NaN  NaN  ...   0.0   0.0   \n",
      "13196  NaN  0.2  NaN  0.0  NaN  NaN  NaN  0.0  NaN  NaN  ...   0.0   0.0   \n",
      "13197  NaN  0.0  NaN  0.0  NaN  NaN  NaN  0.0  NaN  NaN  ...   0.0   0.0   \n",
      "13198  NaN  0.0  NaN  0.0  NaN  NaN  NaN  0.0  NaN  NaN  ...   0.0   0.0   \n",
      "13199  NaN  0.0  NaN  0.0  NaN  NaN  NaN  0.0  NaN  NaN  ...   0.0   0.0   \n",
      "\n",
      "       7378  13669  13670  13671  13696  13700  13713  15000  \n",
      "0       0.2    0.0    0.0    1.3    0.0    0.0    0.0    0.0  \n",
      "1       0.0    0.0    0.0    0.0    0.0    0.0    0.0    1.2  \n",
      "2       0.0    0.0    0.0    0.0    0.0    0.0    0.0    0.6  \n",
      "3       0.0    0.0    0.0    0.0    0.0    0.0    0.0    0.6  \n",
      "4       0.0    0.0    0.0    0.0    0.0    0.0    0.0    0.2  \n",
      "...     ...    ...    ...    ...    ...    ...    ...    ...  \n",
      "13195   NaN    0.2    0.0    0.0    0.0    0.0    0.0    0.0  \n",
      "13196   NaN    0.0    0.0    0.0    0.0    0.0    NaN    0.0  \n",
      "13197   NaN    0.0    0.0    NaN    0.0    0.0    NaN    0.0  \n",
      "13198   NaN    0.0    0.0    NaN    0.0    0.0    NaN    0.0  \n",
      "13199   NaN    NaN    0.0    NaN    0.0    NaN    NaN    0.0  \n",
      "\n",
      "[13200 rows x 83 columns]\n"
     ]
    }
   ],
   "source": [
    "#dictionary based station data extration, correct way\n",
    "station_dict = {}\n",
    "for k,filepath in enumerate(glob.iglob(r'*.txt', recursive=True)):\n",
    "    file = filepath\n",
    "    sample_df = pd.read_csv(file,sep=\";\")\n",
    "    #print(type(sample_df))\n",
    "    dfkeys = sample_df.keys();\n",
    "    key_R1 = dfkeys[3]\n",
    "    key_station = dfkeys[0]\n",
    "    station_id = sample_df[key_station][0]\n",
    "    station_dict[str(station_id)] = sample_df[key_R1];\n",
    "df_station_dict = pd.DataFrame(station_dict)\n",
    "print(df_station_dict)"
   ]
  },
  {
   "cell_type": "code",
   "execution_count": 18,
   "metadata": {},
   "outputs": [
    {
     "data": {
      "text/plain": [
       "'E:\\\\Programs\\\\Megha\\\\Geoinformatics\\\\JupyterLab\\\\Practice\\\\Pandas\\\\temp_percipitation'"
      ]
     },
     "execution_count": 18,
     "metadata": {},
     "output_type": "execute_result"
    }
   ],
   "source": [
    "df = pd.concat([df_zips[\"name\"]]); os.getcwd()"
   ]
  },
  {
   "cell_type": "code",
   "execution_count": null,
   "metadata": {},
   "outputs": [],
   "source": [
    "#test validation - For confirmation of column data length\n",
    "#No need to run\n",
    "for key in ts_df.keys():\n",
    "    #print(len(ts_df),len(df_station_dict))\n",
    "    n,m = len(ts_df[key]), len(df_station_dict[key])\n",
    "    val = np.allclose(ts_df[key],df_station_dict[key][:n]);\n",
    "    print(n,m,val)\n",
    "    if not val:\n",
    "        mask = ts_df[key]==df_station_dict[key][:n]\n",
    "        diff = ts_df[key] - df_station_dict[key][:n]\n",
    "        print(diff)"
   ]
  },
  {
   "cell_type": "code",
   "execution_count": null,
   "metadata": {},
   "outputs": [],
   "source": [
    "#validation code - for confirmation of column data length\n",
    "#No need to run\n",
    "for key in ts_df.keys():\n",
    "    #print(len(ts_df),len(df_station_dict))\n",
    "    n,m = len(ts_df[key]), len(df_station_dict[key])\n",
    "    mask1 = ~(np.isnan(ts_df[key])); mask2 = ~(np.isnan(df_station_dict[key][:n]));\n",
    "    val = np.allclose(ts_df[key][mask1],df_station_dict[key][:n][mask2]);\n",
    "    print(n,m,val)"
   ]
  },
  {
   "cell_type": "code",
   "execution_count": 41,
   "metadata": {},
   "outputs": [
    {
     "data": {
      "text/plain": [
       "0        0.0\n",
       "4        0.0\n",
       "8        0.0\n",
       "12       0.1\n",
       "16       0.0\n",
       "        ... \n",
       "13104    0.0\n",
       "13108    0.1\n",
       "13112    2.3\n",
       "13116    0.0\n",
       "13120    0.0\n",
       "Name: 216, Length: 3281, dtype: float64"
      ]
     },
     "execution_count": 41,
     "metadata": {},
     "output_type": "execute_result"
    }
   ],
   "source": [
    "ts_df['216'][::4]"
   ]
  },
  {
   "cell_type": "code",
   "execution_count": 42,
   "metadata": {},
   "outputs": [
    {
     "data": {
      "text/plain": [
       "0        0.0\n",
       "4        0.0\n",
       "8        0.0\n",
       "12       0.1\n",
       "16       0.0\n",
       "        ... \n",
       "13180    NaN\n",
       "13184    NaN\n",
       "13188    NaN\n",
       "13192    NaN\n",
       "13196    NaN\n",
       "Name: 216, Length: 3300, dtype: float64"
      ]
     },
     "execution_count": 42,
     "metadata": {},
     "output_type": "execute_result"
    }
   ],
   "source": [
    "df_station_dict['216'][::4]"
   ]
  },
  {
   "cell_type": "code",
   "execution_count": 43,
   "metadata": {},
   "outputs": [
    {
     "data": {
      "text/plain": [
       "True"
      ]
     },
     "execution_count": 43,
     "metadata": {},
     "output_type": "execute_result"
    }
   ],
   "source": [
    "np.allclose(ts_df['216'],df_station_dict['216'][:13122])"
   ]
  },
  {
   "cell_type": "code",
   "execution_count": null,
   "metadata": {},
   "outputs": [],
   "source": []
  },
  {
   "cell_type": "code",
   "execution_count": null,
   "metadata": {},
   "outputs": [],
   "source": []
  }
 ],
 "metadata": {
  "kernelspec": {
   "display_name": "Python 3",
   "language": "python",
   "name": "python3"
  },
  "language_info": {
   "codemirror_mode": {
    "name": "ipython",
    "version": 3
   },
   "file_extension": ".py",
   "mimetype": "text/x-python",
   "name": "python",
   "nbconvert_exporter": "python",
   "pygments_lexer": "ipython3",
   "version": "3.8.6"
  }
 },
 "nbformat": 4,
 "nbformat_minor": 4
}
